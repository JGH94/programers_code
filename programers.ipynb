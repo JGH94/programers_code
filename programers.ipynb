{
  "nbformat": 4,
  "nbformat_minor": 0,
  "metadata": {
    "colab": {
      "name": "programers.ipynb",
      "provenance": [],
      "collapsed_sections": [],
      "authorship_tag": "ABX9TyNBM+wadGRu2tEo9+AVsUMu",
      "include_colab_link": true
    },
    "kernelspec": {
      "name": "python3",
      "display_name": "Python 3"
    },
    "language_info": {
      "name": "python"
    }
  },
  "cells": [
    {
      "cell_type": "markdown",
      "metadata": {
        "id": "view-in-github",
        "colab_type": "text"
      },
      "source": [
        "<a href=\"https://colab.research.google.com/github/JGH94/programers_code/blob/main/programers.ipynb\" target=\"_parent\"><img src=\"https://colab.research.google.com/assets/colab-badge.svg\" alt=\"Open In Colab\"/></a>"
      ]
    },
    {
      "cell_type": "code",
      "execution_count": null,
      "metadata": {
        "colab": {
          "base_uri": "https://localhost:8080/"
        },
        "id": "bE-VYA55A4vN",
        "outputId": "b5de49b8-3016-4d8f-c20f-63314359f943"
      },
      "outputs": [
        {
          "output_type": "stream",
          "name": "stdout",
          "text": [
            "*******790409\n"
          ]
        }
      ],
      "source": [
        "#프로그래머스 문제_1\n",
        "str_ = \"0107631790409\" \n",
        "print(str_[7:].rjust(len(str_), '*'))"
      ]
    },
    {
      "cell_type": "code",
      "source": [
        ""
      ],
      "metadata": {
        "id": "ginYHCEzus9P"
      },
      "execution_count": null,
      "outputs": []
    },
    {
      "cell_type": "code",
      "source": [
        ""
      ],
      "metadata": {
        "id": "DPsTMSmYym0X"
      },
      "execution_count": null,
      "outputs": []
    },
    {
      "cell_type": "code",
      "source": [
        "#프로그래머스 문제_2\n",
        "from itertools import permutations\n",
        "  \n",
        "def is_prime_number(x): \n",
        "    if(x == 0 or x == 1):\n",
        "      return False\n",
        "    for i in range(2, x): \n",
        "        if x % i == 0:\n",
        "            return False  \n",
        "    return True\n",
        "\n",
        "str_ = \"011\"\n",
        "perms = [] \n",
        "for i in range(1, len(str_)+1):\n",
        "    for c in permutations(str_, i): \n",
        "        perms.append(\"\".join(c)) \n",
        "perms = list(map(int, perms)) \n",
        "perms = set(perms)\n",
        "perms = list(perms)  \n",
        "\n",
        "num_ = 0\n",
        "for i in perms:\n",
        "  if is_prime_number(i):\n",
        "    num_+=1\n",
        "print(num_)"
      ],
      "metadata": {
        "colab": {
          "base_uri": "https://localhost:8080/"
        },
        "id": "wh-hXGv6GVy4",
        "outputId": "bfc42966-77d6-4cf8-cf9b-3dddeeda9cca"
      },
      "execution_count": null,
      "outputs": [
        {
          "output_type": "stream",
          "name": "stdout",
          "text": [
            "2\n"
          ]
        }
      ]
    },
    {
      "cell_type": "code",
      "source": [
        "#프로그래머스 문제_3\n",
        "#카카오 뉴스 클러스터링\n",
        "from collections import Counter\n",
        "\n",
        "str1 = \"aa1+aa2\"\n",
        "str2 = \"AAAA12\"\n",
        "\n",
        "def kakao_New():\n",
        "    list_ = []\n",
        "    list2_ = []\n",
        "\n",
        "    for i in range(0,len(str1)-1):\n",
        "        if str1[i].isalpha() and str1[i+1].isalpha():\n",
        "            list_.append(str1[i].upper() + str1[i+1].upper())\n",
        "\n",
        "    for i in range(0,len(str2)-1):\n",
        "        if str2[i].isalpha() and str2[i+1].isalpha():\n",
        "            list2_.append(str2[i].upper() + str2[i+1].upper())\n",
        "\n",
        "    coun_1 = Counter(list_)\n",
        "    coun_2 = Counter(list2_)\n",
        "\n",
        "    new_ = list((coun_1 & coun_2).elements())\n",
        "    new2_ = list((coun_1 | coun_2).elements())\n",
        "    if len(new2_) == 0 and len(new_) == 0:\n",
        "        return 65536\n",
        "    else:\n",
        "        return int(len(new_) / len(new2_) * 65536)"
      ],
      "metadata": {
        "id": "kMEHDy5YXEF_"
      },
      "execution_count": null,
      "outputs": []
    },
    {
      "cell_type": "code",
      "source": [
        "#프로그래머스 문제_4\n",
        "import collections \n",
        "\n",
        "# 문제 URL : https://programmers.co.kr/learn/courses/30/lessons/42888 \n",
        "# 카카오 오픈채팅방\n",
        "RECORD = [\"Enter uid1234 Muzi\",\n",
        "          \"Enter uid4567 Prodo\",\n",
        "          \"Leave uid1234\",\n",
        "          \"Enter uid1234 Prodo\",\n",
        "          \"Change uid4567 Ryan\"]\n",
        "\n",
        "#  [ \"Prodo님이 들어왔습니다.\",\n",
        "#    \"Ryan님이 들어왔습니다.\",\n",
        "#    \"Prodo님이 나갔습니다.\",\n",
        "#    \"Prodo님이 들어왔습니다.\"]\n",
        "\n",
        "\n",
        "def Open_Chat():\n",
        "    USER_DICT = {}\n",
        "    RESULT_LIST = []\n",
        "    NEW_RECORD = collections.deque(t for t in RECORD)\n",
        "    while len(NEW_RECORD) != 0:\n",
        "        A = NEW_RECORD.popleft().split(' ')\n",
        "        if A[0] == \"Enter\":\n",
        "            USER_DICT[A[1]] = A[2]\n",
        "            RESULT_LIST.append(A[2]+\"님이 들어왔습니다./\" + A[1])\n",
        "        elif A[0] == \"Leave\":\n",
        "            NAME = USER_DICT[A[1]]\n",
        "            RESULT_LIST.append(NAME + \"님이 나갔습니다./\" + A[1])\n",
        "            pass\n",
        "        elif A[0] == \"Change\":\n",
        "            USER_DICT[A[1]] = A[2]\n",
        "        #변환\n",
        "    for i in range(0, len(RESULT_LIST)):\n",
        "        B = RESULT_LIST[i].split(\"님\") # B [0] - ID ///  B[1] - content\n",
        "        C = B[1].split('/') # C[0] - content /// C[1] - UserID\n",
        "        Name_ = USER_DICT[C[1]]\n",
        "        RESULT_LIST[i] = Name_ +\"님\"+ C[0]\n",
        "    return RESULT_LIST\n",
        " \n",
        "\n",
        "result_ = Open_Chat()\n",
        "print(result_)"
      ],
      "metadata": {
        "colab": {
          "base_uri": "https://localhost:8080/"
        },
        "id": "1oKIb9bpb3rE",
        "outputId": "cb570a9f-b42f-4550-ce78-dc4adacef77f"
      },
      "execution_count": null,
      "outputs": [
        {
          "output_type": "stream",
          "name": "stdout",
          "text": [
            "['Prodo님이 들어왔습니다.', 'Ryan님이 들어왔습니다.', 'Prodo님이 나갔습니다.', 'Prodo님이 들어왔습니다.']\n"
          ]
        }
      ]
    },
    {
      "cell_type": "code",
      "source": [
        "#프로그래머스 문제_5\n",
        "# 문제 URL : https://programmers.co.kr/learn/courses/30/lessons/64065\n",
        "# 2019 카카오 개발자 겨울 인턴십\n",
        "\n",
        "\n",
        "s = \"{{20,111},{111}}\"\n",
        "\n",
        "def KAKAO_Tuple():\n",
        "    answer = []\n",
        "    new_list = sorted(list(filter(None, list(map(lambda x: x.replace('{','').replace(' ',''),s.split('}'))))),key=len)\n",
        "    new_list2=[]\n",
        "    new_list3 = []\n",
        "    for i in new_list:\n",
        "        new_list2.append(str(i).split(','))\n",
        "    new_list2 = list(filter(None, new_list2))\n",
        "    for i in new_list2:\n",
        "        new_list3.append(list(filter(None, i)))\n",
        "    for i in new_list3:\n",
        "        for j in i:\n",
        "            if answer.count(int(j)) == 0:\n",
        "                answer.append(int(j))\n",
        "    print(answer)\n",
        "KAKAO_Tuple()"
      ],
      "metadata": {
        "colab": {
          "base_uri": "https://localhost:8080/"
        },
        "id": "hiCXgaLIyLr7",
        "outputId": "11b126f6-3c6e-4615-e089-ab30d4d01505"
      },
      "execution_count": null,
      "outputs": [
        {
          "output_type": "stream",
          "name": "stdout",
          "text": [
            "[111, 20]\n"
          ]
        }
      ]
    },
    {
      "cell_type": "code",
      "source": [
        "#프로그래머스 문제_6 \n",
        "# 문제 URL : https://programmers.co.kr/learn/courses/30/lessons/60057\n",
        "# 문자열 압축\n",
        "import collections\n",
        "\n",
        "s = \"ababcdcdababcdcd\"\n",
        "\n",
        "def String_compression():\n",
        "    LENGTH = len(s)\n",
        "    reulst_ = []\n",
        "    if len(s)==1:\n",
        "        return 1\n",
        "    for size in range(1, LENGTH):\n",
        "        list_re = []\n",
        "        list_ = []\n",
        "        for i in range(0, LENGTH, size):\n",
        "            list_.append(s[i:i + size])\n",
        "        new_list = collections.deque(t for t in list_)\n",
        "        while len(new_list) != 0:\n",
        "            A = new_list.popleft()\n",
        "            num_ = len(new_list)\n",
        "            num2_ = 1\n",
        "            str_ = \"\"\n",
        "            for x in range(0, num_):\n",
        "                if A == new_list[0]:\n",
        "                    new_list.popleft()\n",
        "                    num2_+=1\n",
        "                else:\n",
        "                    if num2_ == 1:\n",
        "                        num2_ =''\n",
        "                    str_ += str(num2_)+ A\n",
        "                    list_re.append(str_)\n",
        "                    break\n",
        "            if not new_list:\n",
        "                if num2_ == 1:\n",
        "                    num2_ = ''\n",
        "                str_ += str(num2_) + A\n",
        "                list_re.append(str_)\n",
        "        reulst_.append(len(''.join(list_re)))\n",
        "    return min(reulst_)\n",
        "print(String_compression())"
      ],
      "metadata": {
        "id": "aPXUD35r0M1t",
        "colab": {
          "base_uri": "https://localhost:8080/"
        },
        "outputId": "20ea6ef1-6d59-4377-c90c-cd76a70e5b1b"
      },
      "execution_count": null,
      "outputs": [
        {
          "output_type": "stream",
          "name": "stdout",
          "text": [
            "9\n"
          ]
        }
      ]
    },
    {
      "cell_type": "code",
      "source": [
        "#프로그래머스 문제_7 \n",
        "# 문제 URL : https://programmers.co.kr/learn/courses/30/lessons/42626\n",
        "# 더 맵게\n",
        "import heapq\n",
        " \n",
        "scoville = [3, 2, 1, 9, 10, 12]\n",
        "K = 7 \n",
        "#   섞은 음식 스코빌 지수 = 가장맵지않은 음식 스코빌 + (두번째로 맵지않은 음식 스코빌 지수 * 2 )\n",
        "\n",
        "\n",
        "def More_Hot():\n",
        "    heapq.heapify(scoville)\n",
        "    if min(scoville) >= K or len(scoville) <= 1:\n",
        "        return -1\n",
        "    re_ = 0\n",
        "    while min(scoville) <= K:\n",
        "        try:\n",
        "            heapq.heappush(scoville, heapq.heappop(scoville) + (heapq.heappop(scoville) * 2))\n",
        "            re_ += 1\n",
        "        except:\n",
        "            return -1\n",
        "    return re_\n",
        "print(More_Hot())"
      ],
      "metadata": {
        "colab": {
          "base_uri": "https://localhost:8080/"
        },
        "id": "7aYQOu7-ELZ0",
        "outputId": "1181f14f-1d3c-4ff7-c8f5-6d9cf2ca6bb5"
      },
      "execution_count": null,
      "outputs": [
        {
          "output_type": "stream",
          "name": "stdout",
          "text": [
            "2\n"
          ]
        }
      ]
    },
    {
      "cell_type": "code",
      "source": [
        "#프로그래머스 문제_8 \n",
        "# 문제 URL : https://programmers.co.kr/learn/courses/30/lessons/62048\n",
        "# 멀쩡한 사각형\n",
        "\n",
        "def gcd(a, b):\n",
        "    while b > 0:\n",
        "        a, b = b, a % b\n",
        "    return a\n",
        "\n",
        "def solution(W,H):\n",
        "    A = gcd(W,H)\n",
        "    result_ = (W * H) - (((W / A) + (H / A) - 1) * A)\n",
        "    return int(result_)\n",
        "print(solution(8,12))"
      ],
      "metadata": {
        "colab": {
          "base_uri": "https://localhost:8080/"
        },
        "id": "PywpRPQN05Od",
        "outputId": "c87847c7-f9f3-40c6-c100-bfe5e1239091"
      },
      "execution_count": null,
      "outputs": [
        {
          "output_type": "stream",
          "name": "stdout",
          "text": [
            "80\n"
          ]
        }
      ]
    },
    {
      "cell_type": "code",
      "source": [
        "#프로그래머스 문제_9\n",
        "# 문제 URL : https://programmers.co.kr/learn/courses/30/lessons/12899\n",
        "# 124 나라의 숫자\n",
        "def con_124(n):\n",
        "    numbers = ['4', '1', '2']\n",
        "    answer = ''\n",
        "    while n:\n",
        "        answer = numbers[n % 3] + answer\n",
        "        n = n // 3 - (n % 3 == 0)\n",
        "    return answer\n",
        "print(con_124(4))"
      ],
      "metadata": {
        "colab": {
          "base_uri": "https://localhost:8080/"
        },
        "id": "M6BSGAncC7Yu",
        "outputId": "6677bd2e-d6f9-412b-f1d2-4864d186662d"
      },
      "execution_count": null,
      "outputs": [
        {
          "output_type": "stream",
          "name": "stdout",
          "text": [
            "11\n"
          ]
        }
      ]
    },
    {
      "cell_type": "code",
      "source": [
        "#프로그래머스 문제_10\n",
        "# 문제 URL : https://programmers.co.kr/learn/courses/30/lessons/17682\n",
        "# [1차] 다트 게임\n",
        "def solution(dartResult):\n",
        "    answer = 0\n",
        "    bonus = {'S': 1, 'D': 2, 'T': 3}\n",
        "    dartResult = dartResult.replace(\"10\", \"A\")\n",
        "\n",
        "    stack = []\n",
        "    for i in dartResult:\n",
        "        if i.isdigit() or i == \"A\":\n",
        "            if i == \"A\":\n",
        "                i = 10\n",
        "            stack.append(int(i))\n",
        "        elif i in ('S', 'D', 'T'):\n",
        "            num = stack.pop()\n",
        "            stack.append(num ** bonus[i])\n",
        "        elif i == \"#\":\n",
        "            stack[-1] *= -1\n",
        "        elif i == '*':\n",
        "            num = stack.pop()\n",
        "            if len(stack):\n",
        "                stack[-1] *= 2\n",
        "            stack.append(2 * num)\n",
        "    return sum(stack)"
      ],
      "metadata": {
        "id": "Q4Efq0IhsoOw"
      },
      "execution_count": null,
      "outputs": []
    },
    {
      "cell_type": "code",
      "source": [
        "#프로그래머스 문제_11\n",
        "# 문제 URL : https://programmers.co.kr/learn/courses/30/lessons/17681\n",
        "# 2018 KAKAO BLIND RECRUITMENT [1차] 비밀지도 \n",
        "\n",
        "import collections\n",
        "\n",
        "def solution(n, arr1, arr2):\n",
        "    new_list_1 = collections.deque(map(lambda x: format(x, \"b\").zfill(n), arr1))\n",
        "    new_list_2 = collections.deque(map(lambda x: format(x, \"b\").zfill(n), arr2))\n",
        "    List_Result = []\n",
        "\n",
        "    while len(new_list_1) != 0:\n",
        "        S_result = \"\"\n",
        "        S_1 = new_list_1.popleft()\n",
        "        S_2 = new_list_2.popleft()\n",
        "        for i in range(0, n):\n",
        "            if S_1[i] != \"0\" or S_2[i] != \"0\":\n",
        "                S_result += \"#\"\n",
        "            else:\n",
        "                S_result += \" \"\n",
        "        List_Result.append(S_result)\n",
        "    return List_Result"
      ],
      "metadata": {
        "id": "p-wIHlYuYMzw"
      },
      "execution_count": null,
      "outputs": []
    },
    {
      "cell_type": "code",
      "source": [
        "#프로그래머스 문제_12\n",
        "# 문제 URL : https://programmers.co.kr/learn/courses/30/lessons/81301\n",
        "# 2021 카카오 채용연계형 인턴십 숫자 문자열과 영단어\n",
        " \n",
        "def solution(s):\n",
        "    try: \n",
        "        return int(s)\n",
        "    except:\n",
        "        try:\n",
        "            dic = {\"0\": \"zero\",\n",
        "                   \"1\": \"one\",\n",
        "                   \"2\": \"two\",\n",
        "                   \"3\": \"three\",\n",
        "                   \"4\": \"four\",\n",
        "                   \"5\": \"five\",\n",
        "                   \"6\": \"six\",\n",
        "                   \"7\": \"seven\",\n",
        "                   \"8\": \"eight\",\n",
        "                   \"9\": \"nine\"}\n",
        "            result_ = s\n",
        "            for key, value in dic.items(): \n",
        "                result_ = result_.replace(value, key)\n",
        "            return int(result_)\n",
        "        except:\n",
        "            return s"
      ],
      "metadata": {
        "id": "aafP290kYYID"
      },
      "execution_count": null,
      "outputs": []
    },
    {
      "cell_type": "code",
      "source": [
        "#프로그래머스 문제_13\n",
        "# 문제 URL : https://programmers.co.kr/learn/courses/30/lessons/67256\n",
        "# 2020 카카오 인턴십 키패드 누르기\n",
        "\n",
        "\n",
        "import collections\n",
        " \n",
        "def solution(numbers, hand):\n",
        "    answer = ''\n",
        "    numDeque = collections.deque(t for t in numbers)\n",
        "    RH_ = 10\n",
        "    LH_ = 12\n",
        "    while (len(numDeque)):\n",
        "        num_ = numDeque.popleft()\n",
        "        if num_ in [1,4,7]:\n",
        "            answer += 'L'\n",
        "            LH_ = num_\n",
        "        elif num_ in [3,6,9]:\n",
        "            answer += 'R'\n",
        "            RH_ = num_ \n",
        "        else:\n",
        "            num_ = 11 if num_ == 0 else num_\n",
        "            absL = abs(num_ - LH_)\n",
        "            absR = abs(num_ - RH_)\n",
        "            if sum(divmod(absL, 3)) > sum(divmod(absR, 3)):\n",
        "                answer += 'R'\n",
        "                RH_ = num_\n",
        "            elif sum(divmod(absL, 3)) < sum(divmod(absR, 3)):\n",
        "                answer += 'L'\n",
        "                LH_ = num_\n",
        "            else:\n",
        "                if hand == 'left':\n",
        "                    answer += 'L'\n",
        "                    LH_ = num_\n",
        "                else:\n",
        "                    answer += 'R'\n",
        "                    RH_ = num_\n",
        "    return answer"
      ],
      "metadata": {
        "id": "BcsKq6MAfMrb"
      },
      "execution_count": null,
      "outputs": []
    },
    {
      "cell_type": "code",
      "source": [
        "#프로그래머스 문제_14\n",
        "# 문제 URL : https://programmers.co.kr/learn/courses/30/lessons/12906\n",
        "# 같은 숫자는 싫어\n",
        " \n",
        "import collections\n",
        "\n",
        "def solution(arr):\n",
        "    result_ = []\n",
        "    num_list = collections.deque(map(lambda x: x, arr))\n",
        "    while len(num_list) != 0:\n",
        "        num_ = num_list.popleft()\n",
        "        if not result_:\n",
        "            result_.append(num_)\n",
        "        else:\n",
        "            if result_[-1] != num_:\n",
        "                result_.append(num_) \n",
        "    return result_\n"
      ],
      "metadata": {
        "id": "ZwqOXWvG9nPl"
      },
      "execution_count": null,
      "outputs": []
    },
    {
      "cell_type": "code",
      "source": [
        "#프로그래머스 문제_15\n",
        "# 문제 URL : https://programmers.co.kr/learn/courses/30/lessons/42586\n",
        "# 기능개발\n",
        "\n",
        "import collections\n",
        "\n",
        "\n",
        "def solution(progresses, speeds):\n",
        "    list1_ = collections.deque(t for t in progresses)\n",
        "    list2_ = collections.deque(t for t in speeds)\n",
        "    answer = []\n",
        "    time = 0\n",
        "    count = 0\n",
        "    while len(list1_) > 0:\n",
        "        if (list1_[0] + time * list2_[0]) >= 100:\n",
        "            list1_.popleft()\n",
        "            list2_.popleft()\n",
        "            count += 1\n",
        "        else:\n",
        "            if count > 0:\n",
        "                answer.append(count)\n",
        "                count = 0\n",
        "            time += 1\n",
        "    answer.append(count)\n",
        "    return answer"
      ],
      "metadata": {
        "id": "nq2zVICLfkL8"
      },
      "execution_count": null,
      "outputs": []
    },
    {
      "cell_type": "code",
      "source": [
        "#프로그래머스 문제_16\n",
        "# 문제 URL : https://programmers.co.kr/learn/courses/30/lessons/77484\n",
        "# 로또의 최고 순위와 최저 순위\n",
        "\n",
        "import collections\n",
        "\n",
        "def change_num( num ):\n",
        "    if num == 6:\n",
        "        return 1\n",
        "    elif num == 5:\n",
        "        return 2\n",
        "    elif num == 4:\n",
        "        return  3\n",
        "    elif num == 3:\n",
        "        return 4\n",
        "    elif num == 2:\n",
        "        return 5\n",
        "    else:\n",
        "        return 6\n",
        "def solution(lottos, win_nums):\n",
        "    answer = []\n",
        "    new_lotto = collections.deque(t for t in lottos)\n",
        "    new_win_num = collections.deque(t for t in win_nums)\n",
        "\n",
        "    # 0이 모두 맞앗을 경우\n",
        "    S_num_ = 0\n",
        "    # 0이 모두 틀렸을경우\n",
        "    F_num_2 = 0\n",
        "\n",
        "    while len(new_lotto) !=  0:\n",
        "        user_lotto_num = new_lotto.popleft()\n",
        "        # 0일경우\n",
        "        if user_lotto_num == 0:\n",
        "            S_num_ += 1\n",
        "        else:\n",
        "            if user_lotto_num in new_win_num:\n",
        "                S_num_ +=1\n",
        "                F_num_2 +=1\n",
        "    new_S_Num = change_num(S_num_)\n",
        "    new_F_Num = change_num(F_num_2)\n",
        "    answer.append(new_S_Num)\n",
        "    answer.append(new_F_Num)\n",
        "    return answer"
      ],
      "metadata": {
        "id": "Je65YounkNJo"
      },
      "execution_count": null,
      "outputs": []
    },
    {
      "cell_type": "code",
      "source": [
        "#프로그래머스 문제_17\n",
        "# 문제 URL : https://programmers.co.kr/learn/courses/30/lessons/92334\n",
        "# 신고 결과 받기\n",
        "\n",
        "id_list = [\"muzi\", \"frodo\", \"apeach\", \"neo\"]\n",
        "report = [\"muzi frodo\",\"apeach frodo\",\"frodo neo\",\"muzi neo\",\"apeach muzi\"]\n",
        "k = 2\n",
        "answer = []\n",
        "# 시간초과\n",
        "from collections import defaultdict\n",
        "  \n",
        "def solution(id_list, report, k): \n",
        "    answer = []\n",
        "    report2 = list(set(report)) \n",
        "    list_ = list(map(lambda x: x.split(' ')[1], report2)) \n",
        "    for i in range(len(id_list)): \n",
        "        count_ = 0\n",
        "        for j in report2:\n",
        "            A, B = j.split(' ')\n",
        "            if id_list[i].__eq__(A):\n",
        "                if list_.count(B) >= k:\n",
        "                    count_ += 1 \n",
        "        answer.append(count_) \n",
        "    return answer\n",
        "\n",
        "    \n",
        "#다른 방법 \n",
        "from collections import defaultdict\n",
        " \n",
        "def solution(id_list, report, k):  \n",
        "    answer = []\n",
        "    user = defaultdict(set)  \n",
        "    count = defaultdict(int)\n",
        "    for i in report:\n",
        "        A, B = i.split(' ')\n",
        "        if B not in user[A]:\n",
        "            user[A].add(B)\n",
        "            count[B] += 1\n",
        "    for id in id_list:\n",
        "        result_ = 0\n",
        "        for u in user[id]:\n",
        "            if count[u] >= k:\n",
        "                result_ += 1\n",
        "        answer.append(result_) \n",
        "    return answer\n",
        " "
      ],
      "metadata": {
        "colab": {
          "base_uri": "https://localhost:8080/"
        },
        "id": "B-V64no7jQrQ",
        "outputId": "c797c459-b02a-41dc-9ed5-abcc7f0a2efa"
      },
      "execution_count": null,
      "outputs": [
        {
          "output_type": "execute_result",
          "data": {
            "text/plain": [
              "[2, 1, 1, 0]"
            ]
          },
          "metadata": {},
          "execution_count": 81
        }
      ]
    },
    {
      "cell_type": "code",
      "source": [
        "#프로그래머스 문제_18\n",
        "# 문제 URL : https://programmers.co.kr/learn/courses/30/lessons/86051\n",
        "# 없는 숫자 더하기\n",
        "\n",
        "list_ = [1,2,3,4,5,6,7,8,9]\n",
        "get_list_ = [1,2,3,4,6,7,8,0]\n",
        "print(sum(set(list_) - set(get_list_)))\n",
        "\n",
        "#다른사람 풀이 \n",
        "print(45 - sum(get_list_))"
      ],
      "metadata": {
        "colab": {
          "base_uri": "https://localhost:8080/"
        },
        "id": "yjeae5or6RBq",
        "outputId": "c9e811f8-0dc8-4d67-8db2-ac1ec369b9f7"
      },
      "execution_count": null,
      "outputs": [
        {
          "output_type": "stream",
          "name": "stdout",
          "text": [
            "14\n",
            "14\n"
          ]
        }
      ]
    },
    {
      "cell_type": "code",
      "source": [
        "#프로그래머스 문제_19\n",
        "# 문제 URL : https://programmers.co.kr/learn/courses/30/lessons/42578\n",
        "# 위장 \n",
        "\n",
        "from collections import defaultdict\n",
        "from functools import reduce \n",
        "list_ =[[\"yellowhat\", \"headgear\"], [\"bluesunglasses\", \"eyewear\"], [\"green_turban\", \"headgear\"]]  \n",
        "def solution(clothes):\n",
        "    re_ = []\n",
        "    col_ = defaultdict(set)\n",
        "    key_list_ = []\n",
        "    for A,B in clothes:\n",
        "        col_[B].add(A)\n",
        "        key_list_.append(B)\n",
        "    key_list_ = list(set(key_list_))  \n",
        "    num_ = 0\n",
        "    for i in key_list_:\n",
        "        re_.append(len(col_[i]))   \n",
        "    return reduce(lambda x, y: x*(y+1), re_,1)-1 \n",
        "solution(list_)\n"
      ],
      "metadata": {
        "colab": {
          "base_uri": "https://localhost:8080/"
        },
        "id": "0jHL8ag38PQB",
        "outputId": "86cd4599-d712-4d4d-dcfc-4c35a06c043e"
      },
      "execution_count": null,
      "outputs": [
        {
          "output_type": "stream",
          "name": "stdout",
          "text": [
            "[1, 2]\n"
          ]
        },
        {
          "output_type": "execute_result",
          "data": {
            "text/plain": [
              "5"
            ]
          },
          "metadata": {},
          "execution_count": 51
        }
      ]
    }
  ]
}