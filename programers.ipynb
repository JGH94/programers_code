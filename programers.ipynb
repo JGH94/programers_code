{
  "nbformat": 4,
  "nbformat_minor": 0,
  "metadata": {
    "colab": {
      "name": "programers.ipynb",
      "provenance": [],
      "collapsed_sections": [],
      "authorship_tag": "ABX9TyOxP023WGsqK5T8BNeYEhK4",
      "include_colab_link": true
    },
    "kernelspec": {
      "name": "python3",
      "display_name": "Python 3"
    },
    "language_info": {
      "name": "python"
    }
  },
  "cells": [
    {
      "cell_type": "markdown",
      "metadata": {
        "id": "view-in-github",
        "colab_type": "text"
      },
      "source": [
        "<a href=\"https://colab.research.google.com/github/JGH94/programers_code/blob/main/programers.ipynb\" target=\"_parent\"><img src=\"https://colab.research.google.com/assets/colab-badge.svg\" alt=\"Open In Colab\"/></a>"
      ]
    },
    {
      "cell_type": "code",
      "execution_count": null,
      "metadata": {
        "colab": {
          "base_uri": "https://localhost:8080/"
        },
        "id": "bE-VYA55A4vN",
        "outputId": "b5de49b8-3016-4d8f-c20f-63314359f943"
      },
      "outputs": [
        {
          "output_type": "stream",
          "name": "stdout",
          "text": [
            "*******790409\n"
          ]
        }
      ],
      "source": [
        "#프로그래머스 문제_1\n",
        "str_ = \"0107631790409\" \n",
        "print(str_[7:].rjust(len(str_), '*'))"
      ]
    },
    {
      "cell_type": "code",
      "source": [
        "#프로그래머스 문제_2\n",
        "from itertools import permutations\n",
        "  \n",
        "def is_prime_number(x): \n",
        "    if(x == 0 or x == 1):\n",
        "      return False\n",
        "    for i in range(2, x): \n",
        "        if x % i == 0:\n",
        "            return False  \n",
        "    return True\n",
        "\n",
        "str_ = \"011\"\n",
        "perms = [] \n",
        "for i in range(1, len(str_)+1):\n",
        "    for c in permutations(str_, i): \n",
        "        perms.append(\"\".join(c)) \n",
        "perms = list(map(int, perms)) \n",
        "perms = set(perms)\n",
        "perms = list(perms)  \n",
        "\n",
        "num_ = 0\n",
        "for i in perms:\n",
        "  if is_prime_number(i):\n",
        "    num_+=1\n",
        "print(num_)"
      ],
      "metadata": {
        "colab": {
          "base_uri": "https://localhost:8080/"
        },
        "id": "wh-hXGv6GVy4",
        "outputId": "bfc42966-77d6-4cf8-cf9b-3dddeeda9cca"
      },
      "execution_count": null,
      "outputs": [
        {
          "output_type": "stream",
          "name": "stdout",
          "text": [
            "2\n"
          ]
        }
      ]
    },
    {
      "cell_type": "code",
      "source": [
        "#프로그래머스 문제_3\n",
        "#카카오 뉴스 클러스터링\n",
        "from collections import Counter\n",
        "\n",
        "str1 = \"aa1+aa2\"\n",
        "str2 = \"AAAA12\"\n",
        "\n",
        "def kakao_New():\n",
        "    list_ = []\n",
        "    list2_ = []\n",
        "\n",
        "    for i in range(0,len(str1)-1):\n",
        "        if str1[i].isalpha() and str1[i+1].isalpha():\n",
        "            list_.append(str1[i].upper() + str1[i+1].upper())\n",
        "\n",
        "    for i in range(0,len(str2)-1):\n",
        "        if str2[i].isalpha() and str2[i+1].isalpha():\n",
        "            list2_.append(str2[i].upper() + str2[i+1].upper())\n",
        "\n",
        "    coun_1 = Counter(list_)\n",
        "    coun_2 = Counter(list2_)\n",
        "\n",
        "    new_ = list((coun_1 & coun_2).elements())\n",
        "    new2_ = list((coun_1 | coun_2).elements())\n",
        "    if len(new2_) == 0 and len(new_) == 0:\n",
        "        return 65536\n",
        "    else:\n",
        "        return int(len(new_) / len(new2_) * 65536)"
      ],
      "metadata": {
        "id": "kMEHDy5YXEF_"
      },
      "execution_count": null,
      "outputs": []
    },
    {
      "cell_type": "code",
      "source": [
        "#프로그래머스 문제_4\n",
        "import collections \n",
        "\n",
        "# 문제 URL : https://programmers.co.kr/learn/courses/30/lessons/42888 \n",
        "# 카카오 오픈채팅방\n",
        "RECORD = [\"Enter uid1234 Muzi\",\n",
        "          \"Enter uid4567 Prodo\",\n",
        "          \"Leave uid1234\",\n",
        "          \"Enter uid1234 Prodo\",\n",
        "          \"Change uid4567 Ryan\"]\n",
        "\n",
        "#  [ \"Prodo님이 들어왔습니다.\",\n",
        "#    \"Ryan님이 들어왔습니다.\",\n",
        "#    \"Prodo님이 나갔습니다.\",\n",
        "#    \"Prodo님이 들어왔습니다.\"]\n",
        "\n",
        "\n",
        "def Open_Chat():\n",
        "    USER_DICT = {}\n",
        "    RESULT_LIST = []\n",
        "    NEW_RECORD = collections.deque(t for t in RECORD)\n",
        "    while len(NEW_RECORD) != 0:\n",
        "        A = NEW_RECORD.popleft().split(' ')\n",
        "        if A[0] == \"Enter\":\n",
        "            USER_DICT[A[1]] = A[2]\n",
        "            RESULT_LIST.append(A[2]+\"님이 들어왔습니다./\" + A[1])\n",
        "        elif A[0] == \"Leave\":\n",
        "            NAME = USER_DICT[A[1]]\n",
        "            RESULT_LIST.append(NAME + \"님이 나갔습니다./\" + A[1])\n",
        "            pass\n",
        "        elif A[0] == \"Change\":\n",
        "            USER_DICT[A[1]] = A[2]\n",
        "        #변환\n",
        "    for i in range(0, len(RESULT_LIST)):\n",
        "        B = RESULT_LIST[i].split(\"님\") # B [0] - ID ///  B[1] - content\n",
        "        C = B[1].split('/') # C[0] - content /// C[1] - UserID\n",
        "        Name_ = USER_DICT[C[1]]\n",
        "        RESULT_LIST[i] = Name_ +\"님\"+ C[0]\n",
        "    return RESULT_LIST\n",
        " \n",
        "\n",
        "result_ = Open_Chat()\n",
        "print(result_)"
      ],
      "metadata": {
        "colab": {
          "base_uri": "https://localhost:8080/"
        },
        "id": "1oKIb9bpb3rE",
        "outputId": "cb570a9f-b42f-4550-ce78-dc4adacef77f"
      },
      "execution_count": null,
      "outputs": [
        {
          "output_type": "stream",
          "name": "stdout",
          "text": [
            "['Prodo님이 들어왔습니다.', 'Ryan님이 들어왔습니다.', 'Prodo님이 나갔습니다.', 'Prodo님이 들어왔습니다.']\n"
          ]
        }
      ]
    },
    {
      "cell_type": "code",
      "source": [
        "#프로그래머스 문제_5\n",
        "# 문제 URL : https://programmers.co.kr/learn/courses/30/lessons/64065\n",
        "# 2019 카카오 개발자 겨울 인턴십\n",
        "\n",
        "\n",
        "s = \"{{20,111},{111}}\"\n",
        "\n",
        "def KAKAO_Tuple():\n",
        "    answer = []\n",
        "    new_list = sorted(list(filter(None, list(map(lambda x: x.replace('{','').replace(' ',''),s.split('}'))))),key=len)\n",
        "    new_list2=[]\n",
        "    new_list3 = []\n",
        "    for i in new_list:\n",
        "        new_list2.append(str(i).split(','))\n",
        "    new_list2 = list(filter(None, new_list2))\n",
        "    for i in new_list2:\n",
        "        new_list3.append(list(filter(None, i)))\n",
        "    for i in new_list3:\n",
        "        for j in i:\n",
        "            if answer.count(int(j)) == 0:\n",
        "                answer.append(int(j))\n",
        "    print(answer)\n",
        "KAKAO_Tuple()"
      ],
      "metadata": {
        "colab": {
          "base_uri": "https://localhost:8080/"
        },
        "id": "hiCXgaLIyLr7",
        "outputId": "11b126f6-3c6e-4615-e089-ab30d4d01505"
      },
      "execution_count": null,
      "outputs": [
        {
          "output_type": "stream",
          "name": "stdout",
          "text": [
            "[111, 20]\n"
          ]
        }
      ]
    },
    {
      "cell_type": "code",
      "source": [
        "#프로그래머스 문제_6 \n",
        "# 문제 URL : https://programmers.co.kr/learn/courses/30/lessons/60057\n",
        "# 문자열 압축\n",
        "import collections\n",
        "\n",
        "s = \"ababcdcdababcdcd\"\n",
        "\n",
        "def String_compression():\n",
        "    LENGTH = len(s)\n",
        "    reulst_ = []\n",
        "    if len(s)==1:\n",
        "        return 1\n",
        "    for size in range(1, LENGTH):\n",
        "        list_re = []\n",
        "        list_ = []\n",
        "        for i in range(0, LENGTH, size):\n",
        "            list_.append(s[i:i + size])\n",
        "        new_list = collections.deque(t for t in list_)\n",
        "        while len(new_list) != 0:\n",
        "            A = new_list.popleft()\n",
        "            num_ = len(new_list)\n",
        "            num2_ = 1\n",
        "            str_ = \"\"\n",
        "            for x in range(0, num_):\n",
        "                if A == new_list[0]:\n",
        "                    new_list.popleft()\n",
        "                    num2_+=1\n",
        "                else:\n",
        "                    if num2_ == 1:\n",
        "                        num2_ =''\n",
        "                    str_ += str(num2_)+ A\n",
        "                    list_re.append(str_)\n",
        "                    break\n",
        "            if not new_list:\n",
        "                if num2_ == 1:\n",
        "                    num2_ = ''\n",
        "                str_ += str(num2_) + A\n",
        "                list_re.append(str_)\n",
        "        reulst_.append(len(''.join(list_re)))\n",
        "    return min(reulst_)\n",
        "print(String_compression())"
      ],
      "metadata": {
        "id": "aPXUD35r0M1t",
        "colab": {
          "base_uri": "https://localhost:8080/"
        },
        "outputId": "20ea6ef1-6d59-4377-c90c-cd76a70e5b1b"
      },
      "execution_count": null,
      "outputs": [
        {
          "output_type": "stream",
          "name": "stdout",
          "text": [
            "9\n"
          ]
        }
      ]
    },
    {
      "cell_type": "code",
      "source": [
        "#프로그래머스 문제_7 \n",
        "# 문제 URL : https://programmers.co.kr/learn/courses/30/lessons/42626\n",
        "# 더 맵게\n",
        "import heapq\n",
        " \n",
        "scoville = [3, 2, 1, 9, 10, 12]\n",
        "K = 7 \n",
        "#   섞은 음식 스코빌 지수 = 가장맵지않은 음식 스코빌 + (두번째로 맵지않은 음식 스코빌 지수 * 2 )\n",
        "\n",
        "\n",
        "def More_Hot():\n",
        "    heapq.heapify(scoville)\n",
        "    if min(scoville) >= K or len(scoville) <= 1:\n",
        "        return -1\n",
        "    re_ = 0\n",
        "    while min(scoville) <= K:\n",
        "        try:\n",
        "            heapq.heappush(scoville, heapq.heappop(scoville) + (heapq.heappop(scoville) * 2))\n",
        "            re_ += 1\n",
        "        except:\n",
        "            return -1\n",
        "    return re_\n",
        "print(More_Hot())"
      ],
      "metadata": {
        "colab": {
          "base_uri": "https://localhost:8080/"
        },
        "id": "7aYQOu7-ELZ0",
        "outputId": "1181f14f-1d3c-4ff7-c8f5-6d9cf2ca6bb5"
      },
      "execution_count": null,
      "outputs": [
        {
          "output_type": "stream",
          "name": "stdout",
          "text": [
            "2\n"
          ]
        }
      ]
    },
    {
      "cell_type": "code",
      "source": [
        "#프로그래머스 문제_8 \n",
        "# 문제 URL : https://programmers.co.kr/learn/courses/30/lessons/62048\n",
        "# 멀쩡한 사각형\n",
        "\n",
        "def gcd(a, b):\n",
        "    while b > 0:\n",
        "        a, b = b, a % b\n",
        "    return a\n",
        "\n",
        "def solution(W,H):\n",
        "    A = gcd(W,H)\n",
        "    result_ = (W * H) - (((W / A) + (H / A) - 1) * A)\n",
        "    return int(result_)\n",
        "print(solution(8,12))"
      ],
      "metadata": {
        "colab": {
          "base_uri": "https://localhost:8080/"
        },
        "id": "PywpRPQN05Od",
        "outputId": "c87847c7-f9f3-40c6-c100-bfe5e1239091"
      },
      "execution_count": null,
      "outputs": [
        {
          "output_type": "stream",
          "name": "stdout",
          "text": [
            "80\n"
          ]
        }
      ]
    },
    {
      "cell_type": "code",
      "source": [
        "#프로그래머스 문제_9\n",
        "# 문제 URL : https://programmers.co.kr/learn/courses/30/lessons/12899\n",
        "# 124 나라의 숫자\n",
        "def con_124(n):\n",
        "    numbers = ['4', '1', '2']\n",
        "    answer = ''\n",
        "    while n:\n",
        "        answer = numbers[n % 3] + answer\n",
        "        n = n // 3 - (n % 3 == 0)\n",
        "    return answer\n",
        "print(con_124(4))"
      ],
      "metadata": {
        "colab": {
          "base_uri": "https://localhost:8080/"
        },
        "id": "M6BSGAncC7Yu",
        "outputId": "6677bd2e-d6f9-412b-f1d2-4864d186662d"
      },
      "execution_count": null,
      "outputs": [
        {
          "output_type": "stream",
          "name": "stdout",
          "text": [
            "11\n"
          ]
        }
      ]
    },
    {
      "cell_type": "code",
      "source": [
        "#프로그래머스 문제_10\n",
        "# 문제 URL : https://programmers.co.kr/learn/courses/30/lessons/17682\n",
        "# [1차] 다트 게임\n",
        "def solution(dartResult):\n",
        "    answer = 0\n",
        "    bonus = {'S': 1, 'D': 2, 'T': 3}\n",
        "    dartResult = dartResult.replace(\"10\", \"A\")\n",
        "\n",
        "    stack = []\n",
        "    for i in dartResult:\n",
        "        if i.isdigit() or i == \"A\":\n",
        "            if i == \"A\":\n",
        "                i = 10\n",
        "            stack.append(int(i))\n",
        "        elif i in ('S', 'D', 'T'):\n",
        "            num = stack.pop()\n",
        "            stack.append(num ** bonus[i])\n",
        "        elif i == \"#\":\n",
        "            stack[-1] *= -1\n",
        "        elif i == '*':\n",
        "            num = stack.pop()\n",
        "            if len(stack):\n",
        "                stack[-1] *= 2\n",
        "            stack.append(2 * num)\n",
        "    return sum(stack)"
      ],
      "metadata": {
        "id": "Q4Efq0IhsoOw"
      },
      "execution_count": null,
      "outputs": []
    },
    {
      "cell_type": "code",
      "source": [
        "#프로그래머스 문제_11\n",
        "# 문제 URL : https://programmers.co.kr/learn/courses/30/lessons/17681\n",
        "# 2018 KAKAO BLIND RECRUITMENT [1차] 비밀지도 \n",
        "\n",
        "import collections\n",
        "\n",
        "def solution(n, arr1, arr2):\n",
        "    new_list_1 = collections.deque(map(lambda x: format(x, \"b\").zfill(n), arr1))\n",
        "    new_list_2 = collections.deque(map(lambda x: format(x, \"b\").zfill(n), arr2))\n",
        "    List_Result = []\n",
        "\n",
        "    while len(new_list_1) != 0:\n",
        "        S_result = \"\"\n",
        "        S_1 = new_list_1.popleft()\n",
        "        S_2 = new_list_2.popleft()\n",
        "        for i in range(0, n):\n",
        "            if S_1[i] != \"0\" or S_2[i] != \"0\":\n",
        "                S_result += \"#\"\n",
        "            else:\n",
        "                S_result += \" \"\n",
        "        List_Result.append(S_result)\n",
        "    return List_Result"
      ],
      "metadata": {
        "id": "p-wIHlYuYMzw"
      },
      "execution_count": null,
      "outputs": []
    },
    {
      "cell_type": "code",
      "source": [
        "#프로그래머스 문제_12\n",
        "# 문제 URL : https://programmers.co.kr/learn/courses/30/lessons/81301\n",
        "# 2021 카카오 채용연계형 인턴십 숫자 문자열과 영단어\n",
        " \n",
        "def solution(s):\n",
        "    try: \n",
        "        return int(s)\n",
        "    except:\n",
        "        try:\n",
        "            dic = {\"0\": \"zero\",\n",
        "                   \"1\": \"one\",\n",
        "                   \"2\": \"two\",\n",
        "                   \"3\": \"three\",\n",
        "                   \"4\": \"four\",\n",
        "                   \"5\": \"five\",\n",
        "                   \"6\": \"six\",\n",
        "                   \"7\": \"seven\",\n",
        "                   \"8\": \"eight\",\n",
        "                   \"9\": \"nine\"}\n",
        "            result_ = s\n",
        "            for key, value in dic.items(): \n",
        "                result_ = result_.replace(value, key)\n",
        "            return int(result_)\n",
        "        except:\n",
        "            return s"
      ],
      "metadata": {
        "id": "aafP290kYYID"
      },
      "execution_count": null,
      "outputs": []
    },
    {
      "cell_type": "code",
      "source": [
        "#프로그래머스 문제_13\n",
        "# 문제 URL : https://programmers.co.kr/learn/courses/30/lessons/67256\n",
        "# 2020 카카오 인턴십 키패드 누르기\n",
        "\n",
        "\n",
        "import collections\n",
        " \n",
        "def solution(numbers, hand):\n",
        "    answer = ''\n",
        "    numDeque = collections.deque(t for t in numbers)\n",
        "    RH_ = 10\n",
        "    LH_ = 12\n",
        "    while (len(numDeque)):\n",
        "        num_ = numDeque.popleft()\n",
        "        if num_ in [1,4,7]:\n",
        "            answer += 'L'\n",
        "            LH_ = num_\n",
        "        elif num_ in [3,6,9]:\n",
        "            answer += 'R'\n",
        "            RH_ = num_ \n",
        "        else:\n",
        "            num_ = 11 if num_ == 0 else num_\n",
        "            absL = abs(num_ - LH_)\n",
        "            absR = abs(num_ - RH_)\n",
        "            if sum(divmod(absL, 3)) > sum(divmod(absR, 3)):\n",
        "                answer += 'R'\n",
        "                RH_ = num_\n",
        "            elif sum(divmod(absL, 3)) < sum(divmod(absR, 3)):\n",
        "                answer += 'L'\n",
        "                LH_ = num_\n",
        "            else:\n",
        "                if hand == 'left':\n",
        "                    answer += 'L'\n",
        "                    LH_ = num_\n",
        "                else:\n",
        "                    answer += 'R'\n",
        "                    RH_ = num_\n",
        "    return answer"
      ],
      "metadata": {
        "id": "BcsKq6MAfMrb"
      },
      "execution_count": null,
      "outputs": []
    },
    {
      "cell_type": "code",
      "source": [
        "#프로그래머스 문제_14\n",
        "# 문제 URL : https://programmers.co.kr/learn/courses/30/lessons/12906\n",
        "# 같은 숫자는 싫어\n",
        " \n",
        "import collections\n",
        "\n",
        "def solution(arr):\n",
        "    result_ = []\n",
        "    num_list = collections.deque(map(lambda x: x, arr))\n",
        "    while len(num_list) != 0:\n",
        "        num_ = num_list.popleft()\n",
        "        if not result_:\n",
        "            result_.append(num_)\n",
        "        else:\n",
        "            if result_[-1] != num_:\n",
        "                result_.append(num_) \n",
        "    return result_\n"
      ],
      "metadata": {
        "id": "ZwqOXWvG9nPl"
      },
      "execution_count": null,
      "outputs": []
    },
    {
      "cell_type": "code",
      "source": [
        "#프로그래머스 문제_15\n",
        "# 문제 URL : https://programmers.co.kr/learn/courses/30/lessons/42586\n",
        "# 기능개발\n",
        "\n",
        "import collections\n",
        "\n",
        "\n",
        "def solution(progresses, speeds):\n",
        "    list1_ = collections.deque(t for t in progresses)\n",
        "    list2_ = collections.deque(t for t in speeds)\n",
        "    answer = []\n",
        "    time = 0\n",
        "    count = 0\n",
        "    while len(list1_) > 0:\n",
        "        if (list1_[0] + time * list2_[0]) >= 100:\n",
        "            list1_.popleft()\n",
        "            list2_.popleft()\n",
        "            count += 1\n",
        "        else:\n",
        "            if count > 0:\n",
        "                answer.append(count)\n",
        "                count = 0\n",
        "            time += 1\n",
        "    answer.append(count)\n",
        "    return answer"
      ],
      "metadata": {
        "id": "nq2zVICLfkL8"
      },
      "execution_count": null,
      "outputs": []
    },
    {
      "cell_type": "code",
      "source": [
        "#프로그래머스 문제_16\n",
        "# 문제 URL : https://programmers.co.kr/learn/courses/30/lessons/77484\n",
        "# 로또의 최고 순위와 최저 순위\n",
        "\n",
        "import collections\n",
        "\n",
        "def change_num( num ):\n",
        "    if num == 6:\n",
        "        return 1\n",
        "    elif num == 5:\n",
        "        return 2\n",
        "    elif num == 4:\n",
        "        return  3\n",
        "    elif num == 3:\n",
        "        return 4\n",
        "    elif num == 2:\n",
        "        return 5\n",
        "    else:\n",
        "        return 6\n",
        "def solution(lottos, win_nums):\n",
        "    answer = []\n",
        "    new_lotto = collections.deque(t for t in lottos)\n",
        "    new_win_num = collections.deque(t for t in win_nums)\n",
        "\n",
        "    # 0이 모두 맞앗을 경우\n",
        "    S_num_ = 0\n",
        "    # 0이 모두 틀렸을경우\n",
        "    F_num_2 = 0\n",
        "\n",
        "    while len(new_lotto) !=  0:\n",
        "        user_lotto_num = new_lotto.popleft()\n",
        "        # 0일경우\n",
        "        if user_lotto_num == 0:\n",
        "            S_num_ += 1\n",
        "        else:\n",
        "            if user_lotto_num in new_win_num:\n",
        "                S_num_ +=1\n",
        "                F_num_2 +=1\n",
        "    new_S_Num = change_num(S_num_)\n",
        "    new_F_Num = change_num(F_num_2)\n",
        "    answer.append(new_S_Num)\n",
        "    answer.append(new_F_Num)\n",
        "    return answer"
      ],
      "metadata": {
        "id": "Je65YounkNJo"
      },
      "execution_count": null,
      "outputs": []
    },
    {
      "cell_type": "code",
      "source": [
        "#프로그래머스 문제_17\n",
        "# 문제 URL : https://programmers.co.kr/learn/courses/30/lessons/92334\n",
        "# 신고 결과 받기\n",
        "\n",
        "id_list = [\"muzi\", \"frodo\", \"apeach\", \"neo\"]\n",
        "report = [\"muzi frodo\",\"apeach frodo\",\"frodo neo\",\"muzi neo\",\"apeach muzi\"]\n",
        "k = 2\n",
        "answer = []\n",
        "# 시간초과\n",
        "from collections import defaultdict\n",
        "  \n",
        "def solution(id_list, report, k): \n",
        "    answer = []\n",
        "    report2 = list(set(report)) \n",
        "    list_ = list(map(lambda x: x.split(' ')[1], report2)) \n",
        "    for i in range(len(id_list)): \n",
        "        count_ = 0\n",
        "        for j in report2:\n",
        "            A, B = j.split(' ')\n",
        "            if id_list[i].__eq__(A):\n",
        "                if list_.count(B) >= k:\n",
        "                    count_ += 1 \n",
        "        answer.append(count_) \n",
        "    return answer\n",
        "\n",
        "    \n",
        "#다른 방법 \n",
        "from collections import defaultdict\n",
        " \n",
        "def solution(id_list, report, k):  \n",
        "    answer = []\n",
        "    user = defaultdict(set)  \n",
        "    count = defaultdict(int)\n",
        "    for i in report:\n",
        "        A, B = i.split(' ')\n",
        "        if B not in user[A]:\n",
        "            user[A].add(B)\n",
        "            count[B] += 1\n",
        "    for id in id_list:\n",
        "        result_ = 0\n",
        "        for u in user[id]:\n",
        "            if count[u] >= k:\n",
        "                result_ += 1\n",
        "        answer.append(result_) \n",
        "    return answer\n",
        " "
      ],
      "metadata": {
        "colab": {
          "base_uri": "https://localhost:8080/"
        },
        "id": "B-V64no7jQrQ",
        "outputId": "c797c459-b02a-41dc-9ed5-abcc7f0a2efa"
      },
      "execution_count": null,
      "outputs": [
        {
          "output_type": "execute_result",
          "data": {
            "text/plain": [
              "[2, 1, 1, 0]"
            ]
          },
          "metadata": {},
          "execution_count": 81
        }
      ]
    },
    {
      "cell_type": "code",
      "source": [
        "#프로그래머스 문제_18\n",
        "# 문제 URL : https://programmers.co.kr/learn/courses/30/lessons/86051\n",
        "# 없는 숫자 더하기\n",
        "\n",
        "list_ = [1,2,3,4,5,6,7,8,9]\n",
        "get_list_ = [1,2,3,4,6,7,8,0]\n",
        "print(sum(set(list_) - set(get_list_)))\n",
        "\n",
        "#다른사람 풀이 \n",
        "print(45 - sum(get_list_))"
      ],
      "metadata": {
        "colab": {
          "base_uri": "https://localhost:8080/"
        },
        "id": "yjeae5or6RBq",
        "outputId": "c9e811f8-0dc8-4d67-8db2-ac1ec369b9f7"
      },
      "execution_count": null,
      "outputs": [
        {
          "output_type": "stream",
          "name": "stdout",
          "text": [
            "14\n",
            "14\n"
          ]
        }
      ]
    },
    {
      "cell_type": "code",
      "source": [
        "#프로그래머스 문제_19\n",
        "# 문제 URL : https://programmers.co.kr/learn/courses/30/lessons/42578\n",
        "# 위장 \n",
        "\n",
        "from collections import defaultdict\n",
        "from functools import reduce \n",
        "list_ =[[\"yellowhat\", \"headgear\"], [\"bluesunglasses\", \"eyewear\"], [\"green_turban\", \"headgear\"]]  \n",
        "def solution(clothes):\n",
        "    re_ = []\n",
        "    col_ = defaultdict(set)\n",
        "    key_list_ = []\n",
        "    for A,B in clothes:\n",
        "        col_[B].add(A)\n",
        "        key_list_.append(B)\n",
        "    key_list_ = list(set(key_list_))  \n",
        "    num_ = 0\n",
        "    for i in key_list_:\n",
        "        re_.append(len(col_[i]))   \n",
        "    return reduce(lambda x, y: x*(y+1), re_,1)-1 \n",
        "solution(list_)\n"
      ],
      "metadata": {
        "colab": {
          "base_uri": "https://localhost:8080/"
        },
        "id": "0jHL8ag38PQB",
        "outputId": "126639d1-5e7c-48bc-a8e0-6f3f3f70b90a"
      },
      "execution_count": null,
      "outputs": [
        {
          "output_type": "execute_result",
          "data": {
            "text/plain": [
              "5"
            ]
          },
          "metadata": {},
          "execution_count": 3
        }
      ]
    },
    {
      "cell_type": "code",
      "source": [
        "#프로그래머스 문제_20\n",
        "# 문제 URL : https://programmers.co.kr/learn/courses/30/lessons/42583\n",
        "# 다리를 지나는 트럭\n",
        "import collections\n",
        "\n",
        "def solution(bridge_length, weight, truck_weights):\n",
        "  # bridge_length = 다리길이\n",
        "  # weight = 견디는 무게\n",
        "  # truck_weights = 트럭 무게 \n",
        "  answer = 0 \n",
        "  bridge_list = [0] * bridge_length  \n",
        "  while len(bridge_list):\n",
        "    answer += 1\n",
        "    bridge_list.pop(0)\n",
        "    if truck_weights:\n",
        "      if sum(bridge_list) + truck_weights[0] <= weight:\n",
        "          bridge_list.append(truck_weights.pop(0))\n",
        "      else:\n",
        "          bridge_list.append(0) \n",
        "  return answer\n",
        "solution(2, 10, [7,4,5,6])"
      ],
      "metadata": {
        "colab": {
          "base_uri": "https://localhost:8080/"
        },
        "id": "lPG_2TblvH2l",
        "outputId": "eac130c7-a33a-410c-82dc-84fa7f0e69fc"
      },
      "execution_count": null,
      "outputs": [
        {
          "output_type": "execute_result",
          "data": {
            "text/plain": [
              "8"
            ]
          },
          "metadata": {},
          "execution_count": 6
        }
      ]
    },
    {
      "cell_type": "code",
      "source": [
        "#프로그래머스 문제_21\n",
        "# 문제 URL : https://programmers.co.kr/learn/courses/30/lessons/42747\n",
        "# H-Index\n",
        "\n",
        "\n",
        "# 테스트 케이스 11번이 틀림\n",
        "def solution(citations):    \n",
        "    citations = [3, 0, 6, 1, 5]\n",
        "    num_ = 0;\n",
        "    while True:\n",
        "        num_ += 1\n",
        "        citations = list(filter(lambda x: num_ <= x, citations))   \n",
        "        if num_ == len(citations):\n",
        "            break\n",
        "        elif num_ >= len(citations):\n",
        "            num_ = 0\n",
        "            break  \n",
        "    return num_\n",
        " \n",
        "# 다른사람 풀이\n",
        "def solution2(citations):\n",
        "    citations = sorted(citations, reverse=True)\n",
        "    for i in range(len(citations)):\n",
        "        if citations[i] <= i:\n",
        "            return i\n",
        "    return len(citations)"
      ],
      "metadata": {
        "colab": {
          "base_uri": "https://localhost:8080/"
        },
        "id": "CCagjbnl3tPp",
        "outputId": "ac2e8263-1af6-4774-cb3b-5f68354ca088"
      },
      "execution_count": null,
      "outputs": [
        {
          "output_type": "execute_result",
          "data": {
            "text/plain": [
              "11"
            ]
          },
          "metadata": {},
          "execution_count": 59
        }
      ]
    },
    {
      "cell_type": "code",
      "source": [
        "#프로그래머스 문제_22\n",
        "# 문제 URL : https://programmers.co.kr/learn/courses/30/lessons/77885\n",
        "# 월간 코드 챌린지 시즌2 2개 이하로 다른 비트\n",
        "\n",
        "# 10, 11 시간초과\n",
        "def solution():\n",
        "    numbers = [2,7]\n",
        "    answer = []\n",
        "    for i in numbers:\n",
        "        bit_A = \"{0:b}\".format(i) \n",
        "        num_ = 0\n",
        "        while True:\n",
        "          num_ += 1 \n",
        "          re_ = i + num_  \n",
        "          bit_B = \"{0:b}\".format(re_)\n",
        "          bit_A = bit_A.zfill(len(bit_B)) \n",
        "\n",
        "          bool_ = True\n",
        "          D_num_ = 0\n",
        "          for A, B in zip(bit_A, bit_B):  \n",
        "            if A != B:\n",
        "              D_num_ += 1 \n",
        "            if D_num_ > 2:\n",
        "              bool_ = False\n",
        "              break \n",
        "          if bool_:\n",
        "            answer.append(re_)\n",
        "            break\n",
        "    return answer\n",
        "solution()\n",
        "\n",
        "# 다른사람 풀이 \n",
        "def solution(numbers):\n",
        "    answer = [] \n",
        "    for number in numbers:\n",
        "        if number % 2 == 0:\n",
        "            binary_num = list(bin(number)[2:])\n",
        "            binary_num[-1] = \"1\"\n",
        "        else:\n",
        "            binary_num = bin(number)[2:]\n",
        "            binary_num = \"0\" + binary_num\n",
        "            one_idx = binary_num.rfind(\"0\")\n",
        "            binary_num = list(binary_num)\n",
        "            binary_num[one_idx] = \"1\"\n",
        "            binary_num[one_idx + 1] = \"0\"\n",
        "            \n",
        "        ans_num = int(\"\".join(binary_num), 2)\n",
        "        answer.append(ans_num)\n",
        "    \n",
        "    return answer"
      ],
      "metadata": {
        "colab": {
          "base_uri": "https://localhost:8080/"
        },
        "id": "y6u84LzaJp-2",
        "outputId": "dc2fc3ad-9d9a-4450-c7f8-0f689b3ebcdd"
      },
      "execution_count": null,
      "outputs": [
        {
          "output_type": "execute_result",
          "data": {
            "text/plain": [
              "[3, 11]"
            ]
          },
          "metadata": {},
          "execution_count": 85
        }
      ]
    },
    {
      "cell_type": "code",
      "source": [
        "#프로그래머스 문제_23\n",
        "# 문제 URL : https://programmers.co.kr/learn/courses/30/lessons/12981\n",
        "# Summer/Winter Coding(~2018) 영어 끝말잇기\n",
        "\n",
        "num_ = 3\n",
        "word_list_ = [\"tank\", \"kick\", \"know\", \"wheel\", \"land\", \"dream\", \"mother\", \"robot\", \"tank\"]\n",
        "dict_ = {} \n",
        "\n",
        "#번호\n",
        "number_ = 2\n",
        "#차례\n",
        "count_ = 1\n",
        "#결과 \n",
        "result_ = []\n",
        "dict_[word_list_[0]] = 1\n",
        "start_word = word_list_[0]\n",
        "for i in range(1, len(word_list_)):\n",
        "  word  = word_list_[i] \n",
        "  if start_word[-1] == word[0]:\n",
        "     if word in dict_: \n",
        "       result_.append([number_, count_])\n",
        "       break\n",
        "     else:\n",
        "       dict_[word] = number_\n",
        "       start_word = word\n",
        "       number_+=1\n",
        "       if number_ > num_:\n",
        "         number_ = 1\n",
        "         count_ += 1\n",
        "  else: \n",
        "    result_.append([number_, count_])\n",
        "    break \n",
        "if not result_:\n",
        "  result_.append([0,0])\n",
        " "
      ],
      "metadata": {
        "colab": {
          "base_uri": "https://localhost:8080/"
        },
        "id": "uAxW7-nNEu0J",
        "outputId": "0c6be442-62b1-4ef0-c372-9820a0896951"
      },
      "execution_count": null,
      "outputs": [
        {
          "output_type": "stream",
          "name": "stdout",
          "text": [
            "{'tank': 1, 'kick': 2}\n",
            "{'tank': 1, 'kick': 2, 'know': 3}\n",
            "{'tank': 1, 'kick': 2, 'know': 3, 'wheel': 1}\n",
            "{'tank': 1, 'kick': 2, 'know': 3, 'wheel': 1, 'land': 2}\n",
            "{'tank': 1, 'kick': 2, 'know': 3, 'wheel': 1, 'land': 2, 'dream': 3}\n",
            "{'tank': 1, 'kick': 2, 'know': 3, 'wheel': 1, 'land': 2, 'dream': 3, 'mother': 1}\n",
            "{'tank': 1, 'kick': 2, 'know': 3, 'wheel': 1, 'land': 2, 'dream': 3, 'mother': 1, 'robot': 2}\n",
            "[3, 3]\n"
          ]
        }
      ]
    },
    {
      "cell_type": "code",
      "source": [
        "#프로그래머스 문제_24\n",
        "# 문제 URL : https://programmers.co.kr/learn/courses/30/lessons/49993\n",
        "# Summer/Winter Coding(~2018) 스킬트리\n",
        "\n",
        "str_ = \"CBD\"\n",
        "list_ = \t[\"BACDE\", \"CBADF\", \"AECB\", \"BDA\"]\n",
        "re_list_ = [] \n",
        " \n",
        "for i in list_: \n",
        "  re_str_ = \"\"\n",
        "  num_ = 0\n",
        "  for j in i: \n",
        "    if j in str_: \n",
        "      re_str_ += j\n",
        "  re_ = str_.replace(re_str_,' ') \n",
        "  if re_[0] != str_[0]:\n",
        "    re_list_.append(re_) \n",
        "print(len(re_list_))\n"
      ],
      "metadata": {
        "id": "oQFwMLWsHAF9",
        "colab": {
          "base_uri": "https://localhost:8080/"
        },
        "outputId": "1f6d3d04-38f9-47f9-e39f-7f98606b9d3f"
      },
      "execution_count": null,
      "outputs": [
        {
          "output_type": "stream",
          "name": "stdout",
          "text": [
            "2\n"
          ]
        }
      ]
    },
    {
      "cell_type": "code",
      "source": [
        "#프로그래머스 문제_25\n",
        "# 문제 URL : https://programmers.co.kr/learn/courses/30/lessons/17676\n",
        "# 2018 KAKAO BLIND RECRUITMENT [1차] 추석 트래픽\n",
        "\n",
        "def get_time(time):\n",
        "    h = int(time[:2]) * 3600\n",
        "    m = int(time[3:5]) * 60\n",
        "    s = int(time[6:8])\n",
        "    ms = int(time[9:])\n",
        "    return (h + m + s) * 1000 + ms \n",
        "\n",
        "def start_time_(time, dt):\n",
        "    t = dt[:-1]\n",
        "    r_t = int(float(t) * 1000)\n",
        "    return get_time(time) - r_t + 1\n",
        "\n",
        "def solution(lines):\n",
        "    answer = 0\n",
        "    start_times = []\n",
        "    end_times = []\n",
        "    for t in lines:\n",
        "      time_ = t.split(\" \") \n",
        "      # 시작 시간과 끝시간 계산\n",
        "      start_times.append(start_time_(time_[1], time_[2])) \n",
        "      end_times.append(get_time(time_[1]))\n",
        "    for i in range(len(lines)):\n",
        "        cnt = 0\n",
        "        cur_end_time = end_times[i] \n",
        "        for j in range(i, len(lines)):\n",
        "            if cur_end_time > start_times[j] - 1000:\n",
        "                cnt += 1\n",
        "        answer = max(answer, cnt)\n",
        "    return answer\n",
        "\n",
        "lindes_ = [\n",
        "\"2016-09-15 01:00:04.001 2.0s\", \n",
        "\"2016-09-15 01:00:07.000 2s\"\n",
        "]\n",
        "solution(lindes_)"
      ],
      "metadata": {
        "colab": {
          "base_uri": "https://localhost:8080/"
        },
        "id": "g82Q6XsUTzqL",
        "outputId": "78cb81c1-4af0-4582-ce14-a960769b821c"
      },
      "execution_count": null,
      "outputs": [
        {
          "output_type": "stream",
          "name": "stdout",
          "text": [
            "[3602002, 3605001]\n",
            "[3604001, 3607000]\n"
          ]
        },
        {
          "output_type": "execute_result",
          "data": {
            "text/plain": [
              "1"
            ]
          },
          "metadata": {},
          "execution_count": 5
        }
      ]
    },
    {
      "cell_type": "code",
      "source": [
        "#프로그래머스 문제_26\n",
        "# 문제 URL : https://programmers.co.kr/learn/courses/30/lessons/64064\n",
        "# 2019 카카오 개발자 겨울 인턴십 불량 사용자\n",
        " \n",
        "#============================================================================\n",
        "#테스트 케이스만 성공\n",
        "user_list_ = [\"frodo\", \"fradi\", \"crodo\", \"abc123\", \"frodoc\"]\n",
        "user_list_2 = [\"frodo\", \"fradi\", \"crodo\", \"abc123\", \"frodoc\"]  \n",
        "banned_id_list = [\"fr*d*\", \"abc1**\"] \n",
        "re_ = []\n",
        "for i in banned_id_list:\n",
        "  list_ = []\n",
        "  index_list_ = []\n",
        "  # *의 인덱스를 찾음\n",
        "  for j in range(len(i)):\n",
        "    if i[j] == '*':\n",
        "      index_list_.append(j) \n",
        "  # *인덱스 기준으로 user_list를 변경\n",
        "  # 변경된 값은 user_list_2\n",
        "  for j in range(len(user_list_)):\n",
        "    str_ = user_list_[j]\n",
        "    if len(i) == len(str_):\n",
        "      for z in index_list_:\n",
        "        str_ = str_[:z] + '*' + str_[z+1:] \n",
        "        user_list_2[j] = str_  \n",
        "# user_list_2와 banned_id_list로 조합을 계산\n",
        "# 두개 list에서 카운트가 같으면 1로 설정, 다르면 user_list_2 count 값으로 곱하기\n",
        "re_num_ = 0\n",
        "for i in banned_id_list: \n",
        "  count_1 = user_list_2.count(i)\n",
        "  count_2 = banned_id_list.count(i)\n",
        "  num_ = 0 \n",
        "  if count_1 == count_2:\n",
        "    num_ = 1\n",
        "  else:\n",
        "    num_ = count_1\n",
        "  re_.append(num_)  \n",
        "\n",
        "zero = 0\n",
        "num_ = 1\n",
        "for i in re_: \n",
        "  if i == 0:\n",
        "    zero += 1\n",
        "  else:\n",
        "    num_ *= i\n",
        "re = zero + num_ \n",
        "#================================================================================================ \n",
        "# 다른사람 풀이 \n",
        "from itertools import permutations  \n",
        "def check(users,banned_id):\n",
        "    for i in range(len(banned_id)):\n",
        "        if len(users[i]) != len(banned_id[i]):\n",
        "            return False\n",
        "\n",
        "        for j in range(len(users[i])):\n",
        "            if banned_id[i][j] == \"*\":\n",
        "                continue\n",
        "            if banned_id[i][j] != users[i][j]:\n",
        "                return False # 현재 튜플 불일치 \n",
        "    return True\n",
        "\n",
        "def solution(user_id, banned_id):\n",
        "    user_permutation = list(permutations(user_id,len(banned_id)))\n",
        "    banned_Set = [] \n",
        "    for users in user_permutation:\n",
        "        # 하나의 튜플과 비교 시작\n",
        "        if not check(users, banned_id):\n",
        "            continue # 다음 튜플 가져오기\n",
        "        else:\n",
        "            users = set(users)\n",
        "            print(users)\n",
        "            if users not in banned_Set:\n",
        "                banned_Set.append(users) \n",
        "    return len(banned_Set)\n",
        "solution(user_list_,banned_id_list)\n",
        "# 처음에 다른사람 풀이 처럼 풀다가 목록 변경하고 싶어서 변경했는데.. 아쉽군.."
      ],
      "metadata": {
        "colab": {
          "base_uri": "https://localhost:8080/"
        },
        "id": "nyo8gYaPPHlN",
        "outputId": "55abd761-0da7-41dd-c102-23028849c6c5"
      },
      "execution_count": null,
      "outputs": [
        {
          "output_type": "stream",
          "name": "stdout",
          "text": [
            "{'abc123', 'frodo'}\n",
            "{'abc123', 'fradi'}\n"
          ]
        },
        {
          "output_type": "execute_result",
          "data": {
            "text/plain": [
              "2"
            ]
          },
          "metadata": {},
          "execution_count": 107
        }
      ]
    },
    {
      "cell_type": "code",
      "source": [
        "#프로그래머스 문제_27\n",
        "# 문제 URL : https://programmers.co.kr/learn/courses/30/lessons/60059\n",
        "# 2020 KAKAO BLIND RECRUITMENT 자물쇠와 열쇠\n",
        "#=================================================================\n",
        "# 문제 이해를 잘못했음.. 돌려가며 1 만들어서 True 반환하면 되는줄... 45점..\n",
        "# 한 파트당 돌려서 그 Lock 부분이 모두 1일때 True를 줘야함...\n",
        "def rotated(a):\n",
        "    n = len(a)\n",
        "    m = len(a[0]) \n",
        "    result = [[0]* n for _ in range(m)] \n",
        "    for i in range(n):\n",
        "        for j in range(m):\n",
        "            result[j][n-i-1] = a[i][j]\n",
        "    return result \n",
        "def Lock_Check(b,c):\n",
        "    list_ = c \n",
        "    for i in range(len(c)):\n",
        "        for j in range(len(c[i])):\n",
        "            if c[i][j] == 0:\n",
        "                if b[i][j] == 1:\n",
        "                    list_[i][j] = 1 \n",
        "    if 0 not in list_:\n",
        "        return True\n",
        "    return False \n",
        "def solution(Key_, Lock_):\n",
        "    answer = True \n",
        "    if Lock_Check(Key_,Lock_):\n",
        "        return True\n",
        "    else: \n",
        "        for i in range(1,4):\n",
        "            Key_ = rotated(Key_)\n",
        "            if Lock_Check(Key_, Lock_):\n",
        "                answer = True\n",
        "                break \n",
        "    return answer\n",
        "#=================================================================\n",
        "# 다른 사람풀이 \n",
        "def rotated(a):\n",
        "    n = len(a)\n",
        "    m = len(a[0]) \n",
        "    result = [[0]* n for _ in range(m)] \n",
        "    for i in range(n):\n",
        "        for j in range(m):\n",
        "            result[j][n-i-1] = a[i][j]\n",
        "    return result \n",
        "    #return list(zip(*arr[::-1]))\n",
        " \n",
        "def input_Key(j, z, m, key_, background_):\n",
        "    for i in range(m):\n",
        "      for x in range(m):\n",
        "          background_[j+i][z+x] += key_[i][x]\n",
        "def output_Key(j, z, m, key_, background_):\n",
        "    for i in range(m):\n",
        "        for x in range(m):\n",
        "            background_[j+i][z+x] -= key_[i][x]\n",
        "def Key_Check(background_, m, n):\n",
        "    for i in range(n):\n",
        "        for j in range(n):\n",
        "            if background_[m+i][m+j] != 1:\n",
        "                return False;\n",
        "    return True\n",
        "\n",
        "def solution(): \n",
        "  Key_ =  [[0, 0, 0],\n",
        "           [1, 0, 0],\n",
        "           [0, 1, 1]]\t \n",
        "  Lock_ = [[1, 1, 1],\n",
        "           [1, 1, 0],\n",
        "           [1, 0, 1]] \n",
        "  Key_Len = len(Key_)\n",
        "  Lock_Len = len(Lock_)\n",
        "  background_ = [[0] * (Key_Len*2 + Lock_Len) for _ in range(Key_Len*2 + Lock_Len)]\n",
        "  # 자물쇠 중앙 배치 \n",
        "  for i in range(Lock_Len):\n",
        "      for j in range(Lock_Len):\n",
        "          background_[Key_Len+i][Key_Len+j] = Lock_[i][j]\n",
        "  rotated_Key = Key_\n",
        "\n",
        "  \n",
        "  for i in range(4):\n",
        "    rotated_Key = rotated(rotated_Key)\n",
        "    for j in range(1, Key_Len+Lock_Len):\n",
        "        for z in range(1, Key_Len+Lock_Len):\n",
        "          #열쇠 넣기\n",
        "          input_Key(j, z, Key_Len, rotated_Key, background_)\n",
        "          if(Key_Check(background_, Key_Len, Lock_Len)):\n",
        "              return True\n",
        "          #빼기\n",
        "          output_Key(j, z, Key_Len, rotated_Key, background_)\n",
        "  return False \n",
        "solution()"
      ],
      "metadata": {
        "id": "qNVhZoEtkbER",
        "colab": {
          "base_uri": "https://localhost:8080/"
        },
        "outputId": "d18d1336-04de-47b4-bf3e-e09eb33033f8"
      },
      "execution_count": null,
      "outputs": [
        {
          "output_type": "execute_result",
          "data": {
            "text/plain": [
              "True"
            ]
          },
          "metadata": {},
          "execution_count": 36
        }
      ]
    },
    {
      "cell_type": "code",
      "source": [
        "#프로그래머스 문제_28\n",
        "# 문제 URL : https://programmers.co.kr/learn/courses/30/lessons/42895\n",
        "# 동적계획법(Dynamic Programming) N으로 표현\n",
        " \n",
        "def solution(N, number):\n",
        "    # 5, 55, 555.. 리스트 들어서\n",
        "    arr = [None] + list(map(lambda x: {int(str(N)*x)}, range(1,9)))  \n",
        "\n",
        "    for i in range(1, 9): \n",
        "      for j in range(1,i):\n",
        "        for num1 in arr[j]: \n",
        "           for num2 in arr[i-j]: \n",
        "              arr[i].add(num1 + num2)\n",
        "              arr[i].add(num1 - num2)\n",
        "              arr[i].add(num1 * num2)\n",
        "              if num2:\n",
        "                arr[i].add(num1 // num2)\n",
        "      if number in arr[i]:\n",
        "            return i\n",
        "    return -1\n",
        "solution(5, 12) "
      ],
      "metadata": {
        "colab": {
          "base_uri": "https://localhost:8080/"
        },
        "id": "39SATf18dJz3",
        "outputId": "2ad53ba8-f137-402a-f68d-67494efad31a"
      },
      "execution_count": null,
      "outputs": [
        {
          "output_type": "stream",
          "name": "stdout",
          "text": [
            "{5}\n",
            "{5}\n",
            "{0, 1, 10, 55, 25}\n",
            "{0, 1, 10, 55, 25}\n",
            "{0, 1, 10, 55, 25}\n",
            "{0, 1, 10, 55, 25}\n",
            "{0, 1, 10, 55, 25}\n",
            "{5}\n",
            "{0, 1, 10, 55, 25}\n",
            "{0, 1, 10, 55, 25}\n",
            "{0, 1, 10, 55, 25}\n",
            "{0, 1, 10, 55, 25}\n",
            "{0, 1, 10, 55, 25}\n",
            "{0, 2, 4, 5, 6, 555, -20, -4, -50, 15, 11, 50, 275, 20, -5, 60, 125, 30}\n",
            "{0, 2, 4, 5, 6, 555, -20, -4, -50, 15, 11, 50, 275, 20, -5, 60, 125, 30}\n",
            "{0, 2, 4, 5, 6, 555, -20, -4, -50, 15, 11, 50, 275, 20, -5, 60, 125, 30}\n",
            "{0, 2, 4, 5, 6, 555, -20, -4, -50, 15, 11, 50, 275, 20, -5, 60, 125, 30}\n",
            "{0, 2, 4, 5, 6, 555, -20, -4, -50, 15, 11, 50, 275, 20, -5, 60, 125, 30}\n",
            "{0, 2, 4, 5, 6, 555, -20, -4, -50, 15, 11, 50, 275, 20, -5, 60, 125, 30}\n",
            "{0, 2, 4, 5, 6, 555, -20, -4, -50, 15, 11, 50, 275, 20, -5, 60, 125, 30}\n",
            "{0, 2, 4, 5, 6, 555, -20, -4, -50, 15, 11, 50, 275, 20, -5, 60, 125, 30}\n",
            "{0, 2, 4, 5, 6, 555, -20, -4, -50, 15, 11, 50, 275, 20, -5, 60, 125, 30}\n",
            "{0, 2, 4, 5, 6, 555, -20, -4, -50, 15, 11, 50, 275, 20, -5, 60, 125, 30}\n",
            "{0, 2, 4, 5, 6, 555, -20, -4, -50, 15, 11, 50, 275, 20, -5, 60, 125, 30}\n",
            "{0, 2, 4, 5, 6, 555, -20, -4, -50, 15, 11, 50, 275, 20, -5, 60, 125, 30}\n",
            "{0, 2, 4, 5, 6, 555, -20, -4, -50, 15, 11, 50, 275, 20, -5, 60, 125, 30}\n",
            "{0, 2, 4, 5, 6, 555, -20, -4, -50, 15, 11, 50, 275, 20, -5, 60, 125, 30}\n",
            "{0, 2, 4, 5, 6, 555, -20, -4, -50, 15, 11, 50, 275, 20, -5, 60, 125, 30}\n",
            "{0, 2, 4, 5, 6, 555, -20, -4, -50, 15, 11, 50, 275, 20, -5, 60, 125, 30}\n",
            "{0, 2, 4, 5, 6, 555, -20, -4, -50, 15, 11, 50, 275, 20, -5, 60, 125, 30}\n",
            "{0, 2, 4, 5, 6, 555, -20, -4, -50, 15, 11, 50, 275, 20, -5, 60, 125, 30}\n"
          ]
        },
        {
          "output_type": "execute_result",
          "data": {
            "text/plain": [
              "4"
            ]
          },
          "metadata": {},
          "execution_count": 56
        }
      ]
    },
    {
      "cell_type": "code",
      "source": [
        "#프로그래머스 문제_29\n",
        "# 문제 URL : https://programmers.co.kr/learn/courses/30/lessons/43238\n",
        "# 이분탐색 입국심사\n",
        "\n",
        "people_ = 6\n",
        "times_ = [7, 10]\n",
        "def solution():\n",
        "  answer = 0\n",
        "  # start와 가장오래 걸리는 시간\n",
        "  # mid 값을 설정하기 위해\n",
        "  start_, max_tiems_ = 1, max(times_) * people_\n",
        "  while start_ <= max_tiems_:\n",
        "    mid_ = (start_ + max_tiems_) // 2\n",
        "    num_ = 0\n",
        "    for i in times_:\n",
        "      num_ += mid_ // i\n",
        "      if num_ >= people_:\n",
        "          break \n",
        "    #기준 인원보다 크거나 같으면\n",
        "    if num_ >= people_:\n",
        "        answer = mid_\n",
        "        max_tiems_ = mid_ - 1 \n",
        "    #기준 인원보다 작으면 start를 변경\n",
        "    elif num_ < people_:\n",
        "        start_ = mid_ + 1\n",
        "  return answer \n",
        "solution()"
      ],
      "metadata": {
        "colab": {
          "base_uri": "https://localhost:8080/"
        },
        "id": "hxjDsjNqHuve",
        "outputId": "14e5463d-0086-4c09-e35c-47eb5c17adbb"
      },
      "execution_count": null,
      "outputs": [
        {
          "output_type": "stream",
          "name": "stdout",
          "text": [
            "7\n",
            "3\n",
            "5\n",
            "5\n",
            "6\n",
            "5\n"
          ]
        },
        {
          "output_type": "execute_result",
          "data": {
            "text/plain": [
              "28"
            ]
          },
          "metadata": {},
          "execution_count": 6
        }
      ]
    }
  ]
}