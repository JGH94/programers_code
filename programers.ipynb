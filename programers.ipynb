{
  "nbformat": 4,
  "nbformat_minor": 0,
  "metadata": {
    "colab": {
      "name": "programers.ipynb",
      "provenance": [],
      "collapsed_sections": [],
      "authorship_tag": "ABX9TyOFD8THwtEP5lmg7y2JMcm3",
      "include_colab_link": true
    },
    "kernelspec": {
      "name": "python3",
      "display_name": "Python 3"
    },
    "language_info": {
      "name": "python"
    }
  },
  "cells": [
    {
      "cell_type": "markdown",
      "metadata": {
        "id": "view-in-github",
        "colab_type": "text"
      },
      "source": [
        "<a href=\"https://colab.research.google.com/github/JGH94/programers_code/blob/main/programers.ipynb\" target=\"_parent\"><img src=\"https://colab.research.google.com/assets/colab-badge.svg\" alt=\"Open In Colab\"/></a>"
      ]
    },
    {
      "cell_type": "code",
      "execution_count": null,
      "metadata": {
        "colab": {
          "base_uri": "https://localhost:8080/"
        },
        "id": "bE-VYA55A4vN",
        "outputId": "b5de49b8-3016-4d8f-c20f-63314359f943"
      },
      "outputs": [
        {
          "output_type": "stream",
          "name": "stdout",
          "text": [
            "*******790409\n"
          ]
        }
      ],
      "source": [
        "#프로그래머스 문제_1\n",
        "str_ = \"0107631790409\" \n",
        "print(str_[7:].rjust(len(str_), '*'))"
      ]
    },
    {
      "cell_type": "code",
      "source": [
        "#프로그래머스 문제_2\n",
        "from itertools import permutations\n",
        "  \n",
        "def is_prime_number(x): \n",
        "    if(x == 0 or x == 1):\n",
        "      return False\n",
        "    for i in range(2, x): \n",
        "        if x % i == 0:\n",
        "            return False  \n",
        "    return True\n",
        "\n",
        "str_ = \"011\"\n",
        "perms = [] \n",
        "for i in range(1, len(str_)+1):\n",
        "    for c in permutations(str_, i): \n",
        "        perms.append(\"\".join(c)) \n",
        "perms = list(map(int, perms)) \n",
        "perms = set(perms)\n",
        "perms = list(perms)  \n",
        "\n",
        "num_ = 0\n",
        "for i in perms:\n",
        "  if is_prime_number(i):\n",
        "    num_+=1\n",
        "print(num_)"
      ],
      "metadata": {
        "colab": {
          "base_uri": "https://localhost:8080/"
        },
        "id": "wh-hXGv6GVy4",
        "outputId": "bfc42966-77d6-4cf8-cf9b-3dddeeda9cca"
      },
      "execution_count": null,
      "outputs": [
        {
          "output_type": "stream",
          "name": "stdout",
          "text": [
            "2\n"
          ]
        }
      ]
    },
    {
      "cell_type": "code",
      "source": [
        "#프로그래머스 문제_3\n",
        "#카카오 뉴스 클러스터링\n",
        "from collections import Counter\n",
        "\n",
        "str1 = \"aa1+aa2\"\n",
        "str2 = \"AAAA12\"\n",
        "\n",
        "def kakao_New():\n",
        "    list_ = []\n",
        "    list2_ = []\n",
        "\n",
        "    for i in range(0,len(str1)-1):\n",
        "        if str1[i].isalpha() and str1[i+1].isalpha():\n",
        "            list_.append(str1[i].upper() + str1[i+1].upper())\n",
        "\n",
        "    for i in range(0,len(str2)-1):\n",
        "        if str2[i].isalpha() and str2[i+1].isalpha():\n",
        "            list2_.append(str2[i].upper() + str2[i+1].upper())\n",
        "\n",
        "    coun_1 = Counter(list_)\n",
        "    coun_2 = Counter(list2_)\n",
        "\n",
        "    new_ = list((coun_1 & coun_2).elements())\n",
        "    new2_ = list((coun_1 | coun_2).elements())\n",
        "    if len(new2_) == 0 and len(new_) == 0:\n",
        "        return 65536\n",
        "    else:\n",
        "        return int(len(new_) / len(new2_) * 65536)"
      ],
      "metadata": {
        "id": "kMEHDy5YXEF_"
      },
      "execution_count": null,
      "outputs": []
    },
    {
      "cell_type": "code",
      "source": [
        "#프로그래머스 문제_4\n",
        "import collections \n",
        "\n",
        "# 문제 URL : https://programmers.co.kr/learn/courses/30/lessons/42888 \n",
        "# 카카오 오픈채팅방\n",
        "RECORD = [\"Enter uid1234 Muzi\",\n",
        "          \"Enter uid4567 Prodo\",\n",
        "          \"Leave uid1234\",\n",
        "          \"Enter uid1234 Prodo\",\n",
        "          \"Change uid4567 Ryan\"]\n",
        "\n",
        "#  [ \"Prodo님이 들어왔습니다.\",\n",
        "#    \"Ryan님이 들어왔습니다.\",\n",
        "#    \"Prodo님이 나갔습니다.\",\n",
        "#    \"Prodo님이 들어왔습니다.\"]\n",
        "\n",
        "\n",
        "def Open_Chat():\n",
        "    USER_DICT = {}\n",
        "    RESULT_LIST = []\n",
        "    NEW_RECORD = collections.deque(t for t in RECORD)\n",
        "    while len(NEW_RECORD) != 0:\n",
        "        A = NEW_RECORD.popleft().split(' ')\n",
        "        if A[0] == \"Enter\":\n",
        "            USER_DICT[A[1]] = A[2]\n",
        "            RESULT_LIST.append(A[2]+\"님이 들어왔습니다./\" + A[1])\n",
        "        elif A[0] == \"Leave\":\n",
        "            NAME = USER_DICT[A[1]]\n",
        "            RESULT_LIST.append(NAME + \"님이 나갔습니다./\" + A[1])\n",
        "            pass\n",
        "        elif A[0] == \"Change\":\n",
        "            USER_DICT[A[1]] = A[2]\n",
        "        #변환\n",
        "    for i in range(0, len(RESULT_LIST)):\n",
        "        B = RESULT_LIST[i].split(\"님\") # B [0] - ID ///  B[1] - content\n",
        "        C = B[1].split('/') # C[0] - content /// C[1] - UserID\n",
        "        Name_ = USER_DICT[C[1]]\n",
        "        RESULT_LIST[i] = Name_ +\"님\"+ C[0]\n",
        "    return RESULT_LIST\n",
        " \n",
        "\n",
        "result_ = Open_Chat()\n",
        "print(result_)"
      ],
      "metadata": {
        "colab": {
          "base_uri": "https://localhost:8080/"
        },
        "id": "1oKIb9bpb3rE",
        "outputId": "cb570a9f-b42f-4550-ce78-dc4adacef77f"
      },
      "execution_count": null,
      "outputs": [
        {
          "output_type": "stream",
          "name": "stdout",
          "text": [
            "['Prodo님이 들어왔습니다.', 'Ryan님이 들어왔습니다.', 'Prodo님이 나갔습니다.', 'Prodo님이 들어왔습니다.']\n"
          ]
        }
      ]
    },
    {
      "cell_type": "code",
      "source": [
        "#프로그래머스 문제_5\n",
        "# 문제 URL : https://programmers.co.kr/learn/courses/30/lessons/64065\n",
        "# 2019 카카오 개발자 겨울 인턴십\n",
        "\n",
        "\n",
        "s = \"{{20,111},{111}}\"\n",
        "\n",
        "def KAKAO_Tuple():\n",
        "    answer = []\n",
        "    new_list = sorted(list(filter(None, list(map(lambda x: x.replace('{','').replace(' ',''),s.split('}'))))),key=len)\n",
        "    new_list2=[]\n",
        "    new_list3 = []\n",
        "    for i in new_list:\n",
        "        new_list2.append(str(i).split(','))\n",
        "    new_list2 = list(filter(None, new_list2))\n",
        "    for i in new_list2:\n",
        "        new_list3.append(list(filter(None, i)))\n",
        "    for i in new_list3:\n",
        "        for j in i:\n",
        "            if answer.count(int(j)) == 0:\n",
        "                answer.append(int(j))\n",
        "    print(answer)\n",
        "KAKAO_Tuple()"
      ],
      "metadata": {
        "colab": {
          "base_uri": "https://localhost:8080/"
        },
        "id": "hiCXgaLIyLr7",
        "outputId": "11b126f6-3c6e-4615-e089-ab30d4d01505"
      },
      "execution_count": null,
      "outputs": [
        {
          "output_type": "stream",
          "name": "stdout",
          "text": [
            "[111, 20]\n"
          ]
        }
      ]
    },
    {
      "cell_type": "code",
      "source": [
        "#프로그래머스 문제_6 \n",
        "# 문제 URL : https://programmers.co.kr/learn/courses/30/lessons/60057\n",
        "# 문자열 압축\n",
        "import collections\n",
        "\n",
        "s = \"ababcdcdababcdcd\"\n",
        "\n",
        "def String_compression():\n",
        "    LENGTH = len(s)\n",
        "    reulst_ = []\n",
        "    if len(s)==1:\n",
        "        return 1\n",
        "    for size in range(1, LENGTH):\n",
        "        list_re = []\n",
        "        list_ = []\n",
        "        for i in range(0, LENGTH, size):\n",
        "            list_.append(s[i:i + size])\n",
        "        new_list = collections.deque(t for t in list_)\n",
        "        while len(new_list) != 0:\n",
        "            A = new_list.popleft()\n",
        "            num_ = len(new_list)\n",
        "            num2_ = 1\n",
        "            str_ = \"\"\n",
        "            for x in range(0, num_):\n",
        "                if A == new_list[0]:\n",
        "                    new_list.popleft()\n",
        "                    num2_+=1\n",
        "                else:\n",
        "                    if num2_ == 1:\n",
        "                        num2_ =''\n",
        "                    str_ += str(num2_)+ A\n",
        "                    list_re.append(str_)\n",
        "                    break\n",
        "            if not new_list:\n",
        "                if num2_ == 1:\n",
        "                    num2_ = ''\n",
        "                str_ += str(num2_) + A\n",
        "                list_re.append(str_)\n",
        "        reulst_.append(len(''.join(list_re)))\n",
        "    return min(reulst_)\n",
        "print(String_compression())"
      ],
      "metadata": {
        "id": "aPXUD35r0M1t",
        "colab": {
          "base_uri": "https://localhost:8080/"
        },
        "outputId": "20ea6ef1-6d59-4377-c90c-cd76a70e5b1b"
      },
      "execution_count": null,
      "outputs": [
        {
          "output_type": "stream",
          "name": "stdout",
          "text": [
            "9\n"
          ]
        }
      ]
    },
    {
      "cell_type": "code",
      "source": [
        "#프로그래머스 문제_7 \n",
        "# 문제 URL : https://programmers.co.kr/learn/courses/30/lessons/42626\n",
        "# 더 맵게\n",
        "import heapq\n",
        " \n",
        "scoville = [3, 2, 1, 9, 10, 12]\n",
        "K = 7 \n",
        "#   섞은 음식 스코빌 지수 = 가장맵지않은 음식 스코빌 + (두번째로 맵지않은 음식 스코빌 지수 * 2 )\n",
        "\n",
        "\n",
        "def More_Hot():\n",
        "    heapq.heapify(scoville)\n",
        "    if min(scoville) >= K or len(scoville) <= 1:\n",
        "        return -1\n",
        "    re_ = 0\n",
        "    while min(scoville) <= K:\n",
        "        try:\n",
        "            heapq.heappush(scoville, heapq.heappop(scoville) + (heapq.heappop(scoville) * 2))\n",
        "            re_ += 1\n",
        "        except:\n",
        "            return -1\n",
        "    return re_\n",
        "print(More_Hot())"
      ],
      "metadata": {
        "colab": {
          "base_uri": "https://localhost:8080/"
        },
        "id": "7aYQOu7-ELZ0",
        "outputId": "1181f14f-1d3c-4ff7-c8f5-6d9cf2ca6bb5"
      },
      "execution_count": null,
      "outputs": [
        {
          "output_type": "stream",
          "name": "stdout",
          "text": [
            "2\n"
          ]
        }
      ]
    },
    {
      "cell_type": "code",
      "source": [
        "#프로그래머스 문제_8 \n",
        "# 문제 URL : https://programmers.co.kr/learn/courses/30/lessons/62048\n",
        "# 멀쩡한 사각형\n",
        "\n",
        "def gcd(a, b):\n",
        "    while b > 0:\n",
        "        a, b = b, a % b\n",
        "    return a\n",
        "\n",
        "def solution(W,H):\n",
        "    A = gcd(W,H)\n",
        "    result_ = (W * H) - (((W / A) + (H / A) - 1) * A)\n",
        "    return int(result_)\n",
        "print(solution(8,12))"
      ],
      "metadata": {
        "colab": {
          "base_uri": "https://localhost:8080/"
        },
        "id": "PywpRPQN05Od",
        "outputId": "c87847c7-f9f3-40c6-c100-bfe5e1239091"
      },
      "execution_count": null,
      "outputs": [
        {
          "output_type": "stream",
          "name": "stdout",
          "text": [
            "80\n"
          ]
        }
      ]
    },
    {
      "cell_type": "code",
      "source": [
        "#프로그래머스 문제_9\n",
        "# 문제 URL : https://programmers.co.kr/learn/courses/30/lessons/12899\n",
        "# 124 나라의 숫자\n",
        "def con_124(n):\n",
        "    numbers = ['4', '1', '2']\n",
        "    answer = ''\n",
        "    while n:\n",
        "        answer = numbers[n % 3] + answer\n",
        "        n = n // 3 - (n % 3 == 0)\n",
        "    return answer\n",
        "print(con_124(4))"
      ],
      "metadata": {
        "colab": {
          "base_uri": "https://localhost:8080/"
        },
        "id": "M6BSGAncC7Yu",
        "outputId": "6677bd2e-d6f9-412b-f1d2-4864d186662d"
      },
      "execution_count": 58,
      "outputs": [
        {
          "output_type": "stream",
          "name": "stdout",
          "text": [
            "11\n"
          ]
        }
      ]
    }
  ]
}