{
  "nbformat": 4,
  "nbformat_minor": 0,
  "metadata": {
    "colab": {
      "name": "programers.ipynb",
      "provenance": [],
      "authorship_tag": "ABX9TyP1tZHofBlRSVpOnJcT67YQ",
      "include_colab_link": true
    },
    "kernelspec": {
      "name": "python3",
      "display_name": "Python 3"
    },
    "language_info": {
      "name": "python"
    }
  },
  "cells": [
    {
      "cell_type": "markdown",
      "metadata": {
        "id": "view-in-github",
        "colab_type": "text"
      },
      "source": [
        "<a href=\"https://colab.research.google.com/github/JGH94/programers_code/blob/main/programers.ipynb\" target=\"_parent\"><img src=\"https://colab.research.google.com/assets/colab-badge.svg\" alt=\"Open In Colab\"/></a>"
      ]
    },
    {
      "cell_type": "code",
      "execution_count": 17,
      "metadata": {
        "colab": {
          "base_uri": "https://localhost:8080/"
        },
        "id": "bE-VYA55A4vN",
        "outputId": "b5de49b8-3016-4d8f-c20f-63314359f943"
      },
      "outputs": [
        {
          "output_type": "stream",
          "name": "stdout",
          "text": [
            "*******790409\n"
          ]
        }
      ],
      "source": [
        "#프로그래머스 문제_1\n",
        "str_ = \"0107631790409\" \n",
        "print(str_[7:].rjust(len(str_), '*'))"
      ]
    },
    {
      "cell_type": "code",
      "source": [
        "#프로그래머스 문제_2\n",
        "from itertools import permutations\n",
        "  \n",
        "def is_prime_number(x): \n",
        "    if(x == 0 or x == 1):\n",
        "      return False\n",
        "    for i in range(2, x): \n",
        "        if x % i == 0:\n",
        "            return False  \n",
        "    return True\n",
        "\n",
        "str_ = \"011\"\n",
        "perms = [] \n",
        "for i in range(1, len(str_)+1):\n",
        "    for c in permutations(str_, i): \n",
        "        perms.append(\"\".join(c)) \n",
        "perms = list(map(int, perms)) \n",
        "perms = set(perms)\n",
        "perms = list(perms)  \n",
        "num_ = 0\n",
        "for i in perms:\n",
        "  if is_prime_number(i):\n",
        "    num_+=1\n",
        "print(num_)"
      ],
      "metadata": {
        "colab": {
          "base_uri": "https://localhost:8080/"
        },
        "id": "wh-hXGv6GVy4",
        "outputId": "bfc42966-77d6-4cf8-cf9b-3dddeeda9cca"
      },
      "execution_count": 60,
      "outputs": [
        {
          "output_type": "stream",
          "name": "stdout",
          "text": [
            "2\n"
          ]
        }
      ]
    }
  ]
}